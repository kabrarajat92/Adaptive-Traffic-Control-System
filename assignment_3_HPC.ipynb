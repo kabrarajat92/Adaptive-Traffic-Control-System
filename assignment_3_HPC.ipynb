{
  "nbformat": 4,
  "nbformat_minor": 0,
  "metadata": {
    "colab": {
      "provenance": [],
      "include_colab_link": true
    },
    "kernelspec": {
      "name": "python3",
      "display_name": "Python 3"
    },
    "language_info": {
      "name": "python"
    },
    "accelerator": "TPU"
  },
  "cells": [
    {
      "cell_type": "markdown",
      "metadata": {
        "id": "view-in-github",
        "colab_type": "text"
      },
      "source": [
        "<a href=\"https://colab.research.google.com/github/kabrarajat92/Adaptive-Traffic-Control-System/blob/main/assignment_3_HPC.ipynb\" target=\"_parent\"><img src=\"https://colab.research.google.com/assets/colab-badge.svg\" alt=\"Open In Colab\"/></a>"
      ]
    },
    {
      "cell_type": "code",
      "execution_count": null,
      "metadata": {
        "colab": {
          "base_uri": "https://localhost:8080/"
        },
        "id": "j5h9iNDHE9tt",
        "outputId": "2a36f942-3bb1-4216-885e-559370e63ceb"
      },
      "outputs": [
        {
          "output_type": "stream",
          "name": "stdout",
          "text": [
            "\u001b[33m\r0% [Working]\u001b[0m\r            \rGet:1 https://cloud.r-project.org/bin/linux/ubuntu jammy-cran40/ InRelease [3,626 B]\n",
            "\u001b[33m\r0% [Connecting to archive.ubuntu.com (91.189.91.83)] [Connecting to security.ub\u001b[0m\u001b[33m\r0% [Connecting to archive.ubuntu.com (91.189.91.83)] [Waiting for headers] [Con\u001b[0m\r                                                                               \rGet:2 https://developer.download.nvidia.com/compute/cuda/repos/ubuntu2204/x86_64  InRelease [1,581 B]\n",
            "\u001b[33m\r0% [Connecting to archive.ubuntu.com (91.189.91.83)] [Waiting for headers] [Con\u001b[0m\u001b[33m\r0% [Connecting to archive.ubuntu.com (91.189.91.83)] [Waiting for headers] [Con\u001b[0m\r                                                                               \rHit:3 http://archive.ubuntu.com/ubuntu jammy InRelease\n",
            "\u001b[33m\r0% [Waiting for headers] [Waiting for headers] [Connecting to ppa.launchpadcont\u001b[0m\r                                                                               \rGet:4 http://security.ubuntu.com/ubuntu jammy-security InRelease [110 kB]\n",
            "Get:5 http://archive.ubuntu.com/ubuntu jammy-updates InRelease [119 kB]\n",
            "Hit:6 http://archive.ubuntu.com/ubuntu jammy-backports InRelease\n",
            "Get:7 https://developer.download.nvidia.com/compute/cuda/repos/ubuntu2204/x86_64  Packages [734 kB]\n",
            "Hit:8 https://ppa.launchpadcontent.net/c2d4u.team/c2d4u4.0+/ubuntu jammy InRelease\n",
            "Hit:9 https://ppa.launchpadcontent.net/deadsnakes/ppa/ubuntu jammy InRelease\n",
            "Hit:10 https://ppa.launchpadcontent.net/graphics-drivers/ppa/ubuntu jammy InRelease\n",
            "Hit:11 https://ppa.launchpadcontent.net/ubuntugis/ppa/ubuntu jammy InRelease\n",
            "Get:12 http://archive.ubuntu.com/ubuntu jammy-updates/universe amd64 Packages [1,347 kB]\n",
            "Get:13 http://archive.ubuntu.com/ubuntu jammy-updates/main amd64 Packages [1,801 kB]\n",
            "Get:14 http://archive.ubuntu.com/ubuntu jammy-updates/restricted amd64 Packages [1,932 kB]\n",
            "Get:15 http://security.ubuntu.com/ubuntu jammy-security/universe amd64 Packages [1,076 kB]\n",
            "Get:16 http://security.ubuntu.com/ubuntu jammy-security/main amd64 Packages [1,522 kB]\n",
            "Get:17 http://security.ubuntu.com/ubuntu jammy-security/restricted amd64 Packages [1,894 kB]\n",
            "Fetched 10.5 MB in 3s (3,565 kB/s)\n",
            "Reading package lists... Done\n",
            "Building dependency tree... Done\n",
            "Reading state information... Done\n",
            "39 packages can be upgraded. Run 'apt list --upgradable' to see them.\n",
            "Reading package lists... Done\n",
            "Building dependency tree... Done\n",
            "Reading state information... Done\n",
            "build-essential is already the newest version (12.9ubuntu3).\n",
            "0 upgraded, 0 newly installed, 0 to remove and 39 not upgraded.\n"
          ]
        }
      ],
      "source": [
        "!sudo apt update\n",
        "!sudo apt install build-essential"
      ]
    },
    {
      "cell_type": "code",
      "source": [
        "%%writefile Assignment_3_HPC.c\n",
        "\n",
        "#include <stdio.h>\n",
        "#include <omp.h>\n",
        "\n",
        "void swap(int *a, int *b) {\n",
        "  int temp = *a;\n",
        "  *a = *b;\n",
        "  *b = temp;\n",
        "}\n",
        "\n",
        "int partition(int arr[], int low, int high) {\n",
        "  int pivot = arr[high];\n",
        "  int i = (low - 1);\n",
        "\n",
        "  for (int j = low; j <= high - 1; j++) {\n",
        "    if (arr[j] <= pivot) {\n",
        "      i++;\n",
        "      swap(&arr[i], &arr[j]);\n",
        "    }\n",
        "  }\n",
        "  swap(&arr[i + 1], &arr[high]);\n",
        "  return (i + 1);\n",
        "}\n",
        "\n",
        "//serial code starts here\n",
        "void serialquickSort(int array[], int low, int high) {\n",
        "  if (low < high) {\n",
        "\n",
        "    // find the pivot element such that\n",
        "    // elements smaller than pivot are on left of pivot\n",
        "    // elements greater than pivot are on right of pivot\n",
        "    int pi = partition(array, low, high);\n",
        "\n",
        "    // recursive call on the left of pivot\n",
        "    serialquickSort(array, low, pi - 1);\n",
        "\n",
        "    // recursive call on the right of pivot\n",
        "    serialquickSort(array, pi + 1, high);\n",
        "  }\n",
        "}\n",
        "//serial code ends here\n",
        "\n",
        "//parallel code starts here\n",
        "void quicksort(int arr[], int low, int high) {\n",
        "  if (low < high) {\n",
        "    int pi = partition(arr, low, high);\n",
        "\n",
        "    #pragma omp parallel sections\n",
        "    {\n",
        "      #pragma omp section\n",
        "      {\n",
        "        quicksort(arr, low, pi - 1);\n",
        "      }\n",
        "      #pragma omp section\n",
        "      {\n",
        "        quicksort(arr, pi + 1, high);\n",
        "      }\n",
        "    }\n",
        "  }\n",
        "}\n",
        "//parallel code ends here\n",
        "\n",
        "int main() {\n",
        "  int arr[] = {280, 342, 286, 970, 115, 263, 208, 897, 228, 567, 658, 923, 114, 769,\n",
        "  502, 712, 954, 328, 227, 603, 870, 860, 155, 543, 130, 873, 172, 778, 291, 403,\n",
        "  861, 398, 308, 270, 537, 166, 915, 202, 996, 711, 349, 535, 310, 936, 237, 310,\n",
        "  306, 139, 860, 738, 270, 891, 267, 912, 84, 70, 923, 268, 719, 797, 740, 107,\n",
        "  985, 47, 869, 550, 456, 840, 608, 826, 213, 621, 593, 833, 248, 838, 154, 997,\n",
        "  133, 873, 447, 112, 217, 503, 944, 462, 791, 904, 61, 958, 846, 851, 284, 318,\n",
        "  357, 384, 738, 96, 538, 354, 308, 266, 448, 172, 172, 685, 753, 410, 750, 582,\n",
        "  374, 675, 175, 609, 755, 806, 451, 207, 290, 522, 561, 86, 302, 958, 604, 487,\n",
        "  193, 652, 179, 45, 334, 818, 532, 856, 374, 498, 780, 997, 428, 161, 922, 346,\n",
        "  820, 932, 140, 876, 383, 943, 518, 186, 827, 271, 940, 62, 436, 304, 540,\n",
        "  367, 382, 606, 825, 726, 896, 10, 824, 405, 487, 59, 584, 555, 268, 639, 346,\n",
        "  955, 897, 756, 130, 721, 100, 767, 690, 584, 373, 3, 578, 946};\n",
        "  int n = sizeof(arr) / sizeof(arr[0]);\n",
        "\n",
        "  printf(\"Unsorted array: \\n\");\n",
        "  for (int i = 0; i < n; ++i) {\n",
        "    printf(\"%d \", arr[i]);\n",
        "  }\n",
        "  printf(\"\\n\");\n",
        "  double start_time=omp_get_wtime();\n",
        "  #pragma omp parallel num_threads(4)\n",
        "  {\n",
        "    quicksort(arr, 0, n - 1);\n",
        "  }\n",
        "  double parallel_time=omp_get_wtime() - start_time;\n",
        "  printf(\"Sorted array: \\n\");\n",
        "  for (int i = 0; i < n; ++i) {\n",
        "    printf(\"%d \", arr[i]);\n",
        "  }\n",
        "  printf(\"\\n\");\n",
        "  printf(\"Serial time %f\",parallel_time);\n",
        "  printf(\"\\n\");\n",
        "\n",
        "\n",
        "  printf(\"Now the serial code starts running \\n\");\n",
        "  int arr1[] = {280, 342, 286, 970, 115, 263, 208, 897, 228, 567, 658, 923, 114, 769, 502, 712, 954,\n",
        "  328, 227, 603, 870, 860, 155, 543, 130, 873, 172, 778, 291, 403, 861, 398, 308, 270, 537, 166, 915,\n",
        "  202, 996, 711, 349, 535, 310, 936, 237, 310, 306, 139, 860, 738, 270, 891, 267, 912, 84, 70, 923, 268,\n",
        "  719, 797, 740, 107, 985, 47, 869, 550, 456, 840, 608, 826, 213, 621, 593, 833, 248, 838, 154, 997, 133,\n",
        "  873, 447, 112, 217, 503, 944, 462, 791, 904, 61, 958, 846, 851, 284, 318, 357, 384, 738, 96, 538, 354,\n",
        "  308, 266, 448, 172, 172, 685, 753, 410, 750, 582, 374, 675, 175, 609, 755, 806, 451, 207, 290, 522, 561,\n",
        "  86, 302, 958, 604, 487, 193, 652, 179, 45, 334, 818, 532, 856, 374, 498, 780, 997, 428, 161, 922, 346, 820,\n",
        "  932, 140, 876, 383, 943, 518, 186, 827, 271, 940, 62, 436, 304, 540, 367, 382, 606, 825, 726, 896, 10, 824,\n",
        "  405, 487, 59, 584, 555, 268, 639, 346, 955, 897, 756, 130, 721, 100, 767, 690, 584, 373, 3, 578, 946};\n",
        "  int n1 = sizeof(arr1) / sizeof(arr1[0]);\n",
        "  printf(\"Unsorted array: \\n\");\n",
        "  for (int i = 0; i < n1; ++i) {\n",
        "    printf(\"%d \", arr1[i]);\n",
        "  }\n",
        "  printf(\"\\n\");\n",
        "  double start_time1=omp_get_wtime();\n",
        "  serialquickSort(arr1, 0, n1 - 1);\n",
        "  double serial_time=omp_get_wtime()-start_time1;\n",
        "  printf(\"Sorted array: \\n\");\n",
        "  for (int i = 0; i < n1; ++i) {\n",
        "    printf(\"%d \", arr1[i]);\n",
        "  }\n",
        "  printf(\"\\n\");\n",
        "  printf(\"Parallel time %f\",serial_time);\n",
        "  printf(\"\\n\");\n",
        "  return 0;\n",
        "}"
      ],
      "metadata": {
        "colab": {
          "base_uri": "https://localhost:8080/"
        },
        "id": "dQ--klxUGhi7",
        "outputId": "5906842c-970f-4f2a-a9e4-9282a5e2dcca"
      },
      "execution_count": null,
      "outputs": [
        {
          "output_type": "stream",
          "name": "stdout",
          "text": [
            "Writing Assignment_3_HPC.c\n"
          ]
        }
      ]
    },
    {
      "cell_type": "code",
      "source": [
        "!gcc -o assignment-3-hpc -fopenmp Assignment_3_HPC.c"
      ],
      "metadata": {
        "id": "PQi2EavKI9WB"
      },
      "execution_count": null,
      "outputs": []
    },
    {
      "cell_type": "code",
      "source": [
        "!./assignment-3-hpc"
      ],
      "metadata": {
        "colab": {
          "base_uri": "https://localhost:8080/"
        },
        "id": "6NIHKJy9JVzy",
        "outputId": "8a6cfe89-61ba-41ad-d982-e6ed56f5ec10"
      },
      "execution_count": null,
      "outputs": [
        {
          "output_type": "stream",
          "name": "stdout",
          "text": [
            "Unsorted array: \n",
            "280 342 286 970 115 263 208 897 228 567 658 923 114 769 502 712 954 328 227 603 870 860 155 543 130 873 172 778 291 403 861 398 308 270 537 166 915 202 996 711 349 535 310 936 237 310 306 139 860 738 270 891 267 912 84 70 923 268 719 797 740 107 985 47 869 550 456 840 608 826 213 621 593 833 248 838 154 997 133 873 447 112 217 503 944 462 791 904 61 958 846 851 284 318 357 384 738 96 538 354 308 266 448 172 172 685 753 410 750 582 374 675 175 609 755 806 451 207 290 522 561 86 302 958 604 487 193 652 179 45 334 818 532 856 374 498 780 997 428 161 922 346 820 932 140 876 383 943 518 186 827 271 940 62 436 304 540 367 382 606 825 726 896 10 824 405 487 59 584 555 268 639 346 955 897 756 130 721 100 767 690 584 373 3 578 946 \n",
            "Sorted array: \n",
            "3 10 45 47 59 61 62 70 84 86 96 100 107 112 114 115 130 130 133 139 140 154 155 161 166 172 172 172 175 179 186 193 202 207 208 213 217 227 228 237 248 263 266 267 268 268 270 270 271 280 284 286 290 291 302 304 306 308 308 310 310 318 328 334 342 346 346 349 354 357 367 373 374 374 382 383 384 398 403 405 410 428 436 447 448 451 456 462 487 487 498 502 503 518 522 532 535 537 538 540 543 550 555 561 567 578 582 584 584 593 603 604 606 608 609 621 639 652 658 675 685 690 711 712 719 721 726 738 738 740 750 753 755 756 767 769 778 780 791 797 806 818 820 824 825 826 827 833 838 840 846 851 856 860 860 861 869 870 873 873 876 891 896 897 897 904 912 915 922 923 923 932 936 940 943 944 946 954 955 958 958 970 985 996 997 997 \n",
            "Serial time 0.006019\n",
            "Now the serial code starts running \n",
            "Unsorted array: \n",
            "280 342 286 970 115 263 208 897 228 567 658 923 114 769 502 712 954 328 227 603 870 860 155 543 130 873 172 778 291 403 861 398 308 270 537 166 915 202 996 711 349 535 310 936 237 310 306 139 860 738 270 891 267 912 84 70 923 268 719 797 740 107 985 47 869 550 456 840 608 826 213 621 593 833 248 838 154 997 133 873 447 112 217 503 944 462 791 904 61 958 846 851 284 318 357 384 738 96 538 354 308 266 448 172 172 685 753 410 750 582 374 675 175 609 755 806 451 207 290 522 561 86 302 958 604 487 193 652 179 45 334 818 532 856 374 498 780 997 428 161 922 346 820 932 140 876 383 943 518 186 827 271 940 62 436 304 540 367 382 606 825 726 896 10 824 405 487 59 584 555 268 639 346 955 897 756 130 721 100 767 690 584 373 3 578 946 \n",
            "Sorted array: \n",
            "3 10 45 47 59 61 62 70 84 86 96 100 107 112 114 115 130 130 133 139 140 154 155 161 166 172 172 172 175 179 186 193 202 207 208 213 217 227 228 237 248 263 266 267 268 268 270 270 271 280 284 286 290 291 302 304 306 308 308 310 310 318 328 334 342 346 346 349 354 357 367 373 374 374 382 383 384 398 403 405 410 428 436 447 448 451 456 462 487 487 498 502 503 518 522 532 535 537 538 540 543 550 555 561 567 578 582 584 584 593 603 604 606 608 609 621 639 652 658 675 685 690 711 712 719 721 726 738 738 740 750 753 755 756 767 769 778 780 791 797 806 818 820 824 825 826 827 833 838 840 846 851 856 860 860 861 869 870 873 873 876 891 896 897 897 904 912 915 922 923 923 932 936 940 943 944 946 954 955 958 958 970 985 996 997 997 \n",
            "Parallel time 0.000022\n"
          ]
        }
      ]
    },
    {
      "cell_type": "code",
      "source": [],
      "metadata": {
        "id": "y2XAp1sPKY19"
      },
      "execution_count": null,
      "outputs": []
    }
  ]
}